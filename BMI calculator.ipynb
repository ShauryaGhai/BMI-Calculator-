{
 "cells": [
  {
   "cell_type": "code",
   "execution_count": null,
   "id": "dff3e8f0",
   "metadata": {},
   "outputs": [],
   "source": [
    "weight = float(input('What is your weight? (Kg) '))\n",
    "height = float(input('What is your height? (Mtr) '))\n",
    "BMI = weight/(height*height)\n",
    "if BMI < 18.5:\n",
    "    print('Your BMI is', BMI, 'which means you are underweight')\n",
    "\n",
    "elif 18.5 <= BMI < 25:\n",
    "    print(\"Your BMI is\",BMI,' which means you are normal:)')\n",
    "\n",
    "elif  25<= BMI < 30:\n",
    "    print('your BMI is', BMI,' which means you are overweight')\n",
    "\n",
    "else:\n",
    "    print(\"your bmi is\",BMI,\"which means obesity\")"
   ]
  }
 ],
 "metadata": {
  "kernelspec": {
   "display_name": "Python 3 (ipykernel)",
   "language": "python",
   "name": "python3"
  },
  "language_info": {
   "codemirror_mode": {
    "name": "ipython",
    "version": 3
   },
   "file_extension": ".py",
   "mimetype": "text/x-python",
   "name": "python",
   "nbconvert_exporter": "python",
   "pygments_lexer": "ipython3",
   "version": "3.9.12"
  }
 },
 "nbformat": 4,
 "nbformat_minor": 5
}
